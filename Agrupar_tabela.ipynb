{
  "cells": [
    {
      "cell_type": "markdown",
      "metadata": {
        "colab_type": "text",
        "id": "view-in-github"
      },
      "source": [
        "<a href=\"https://colab.research.google.com/github/tpinhoda/teste/blob/main/Agrupar_tabela.ipynb\" target=\"_parent\"><img src=\"https://colab.research.google.com/assets/colab-badge.svg\" alt=\"Open In Colab\"/></a>"
      ]
    },
    {
      "cell_type": "code",
      "execution_count": 2,
      "metadata": {
        "colab": {
          "base_uri": "https://localhost:8080/",
          "height": 49,
          "referenced_widgets": [
            "b0ead3acb0914f968882d5db70d1f9f3",
            "eb825df2bc814e5b961275bc9b906387",
            "a4893eb1f8b94599a771f94cfd864f6d"
          ]
        },
        "id": "84H-tNmsqxFJ",
        "outputId": "27f8a2c7-8a56-42f6-9ee3-67ac679ec00d"
      },
      "outputs": [
        {
          "data": {
            "application/vnd.jupyter.widget-view+json": {
              "model_id": "b0ead3acb0914f968882d5db70d1f9f3",
              "version_major": 2,
              "version_minor": 0
            },
            "text/plain": [
              "FileUpload(value={}, accept='.*', description='Upload')"
            ]
          },
          "metadata": {},
          "output_type": "display_data"
        }
      ],
      "source": [
        "!pip install pandas\n",
        "!pip install openpyxl\n",
        "#@title Aperte o play e Carregue um arquivo .xls\n",
        "import pandas as pd\n",
        "from ipywidgets import FileUpload\n",
        "from IPython.display import display\n",
        "\n",
        "categorias = {\n",
        "    \"Ordenados/Salários\": [41110201, 41110208, 41110101, 41110108],\n",
        "    \"Horas Extras\": [41110213, 41110113],\n",
        "    \"Encargos/Provisões\": [41110202, 41110203, 41110205, 41110206, 41110207, 41110228, 41110102, 41110103, 41110105, 41110106, 41110107, 41110128],\n",
        "    \"Indenizações\": [41110204, 41110104],\n",
        "    \"Benefícios\": [41110214, 41110215, 41110218, 41110219, 41110220, 41110222, 41110227, 41110114, 41110115, 41110118, 41110120, 41110122, 41110127, 41110119, 41110123, 41110126, 41120107, 41110223, 41110224, 41110226],\n",
        "    \"Outras\": [41110210, 41110216, 41110217, 41110110, 41110116, 41110117],\n",
        "    \"Energia/Água/Gases Industriais\": [41120123, 41120125],\n",
        "    \"Manutenção\": [41120132, 41120133, 41120134, 41120135, 41120140],\n",
        "    \"Materiais\": [41120122, 41120127, 41120136, 41120137, 41120138, 41120154, 41120156, 41120157, 41120175, 41120158],\n",
        "    \"Fretes\": [41120126],\n",
        "    \"Viagens/Refeições\": [41120129, 41120149, 41220129, 41220149, 41120150, 41120160],\n",
        "    \"Comunicação\": [41120113, 41120152],\n",
        "    \"Serviços Terceiros\": [41120145, 41120146, 41120147, 41120148, 41120164, 41120165, 41120166],\n",
        "    \"Royalties\": [41120161],\n",
        "    \"Outras Despesas\": [41120108, 41120109, 41120110, 41120112, 41120118, 41120120, 41120124, 41120128, 41120130, 41120131, 41120501, 41220103, 41220502],\n",
        "    \"Amortizações/Depreciações\": [41120121],\n",
        "    \"Seguros\": [41120142]\n",
        "    }\n",
        "\n",
        "upload = FileUpload(accept='.*', multiple=False)\n",
        "display(upload)"
      ]
    },
    {
      "cell_type": "code",
      "execution_count": 3,
      "metadata": {
        "colab": {
          "base_uri": "https://localhost:8080/",
          "height": 17
        },
        "id": "Js6BBs9uuIVr",
        "outputId": "d329b6a2-dbe4-48cd-97b8-a7f0f193aeb9"
      },
      "outputs": [
        {
          "data": {
            "application/javascript": "\n    async function download(id, filename, size) {\n      if (!google.colab.kernel.accessAllowed) {\n        return;\n      }\n      const div = document.createElement('div');\n      const label = document.createElement('label');\n      label.textContent = `Downloading \"${filename}\": `;\n      div.appendChild(label);\n      const progress = document.createElement('progress');\n      progress.max = size;\n      div.appendChild(progress);\n      document.body.appendChild(div);\n\n      const buffers = [];\n      let downloaded = 0;\n\n      const channel = await google.colab.kernel.comms.open(id);\n      // Send a message to notify the kernel that we're ready.\n      channel.send({})\n\n      for await (const message of channel.messages) {\n        // Send a message to notify the kernel that we're ready.\n        channel.send({})\n        if (message.buffers) {\n          for (const buffer of message.buffers) {\n            buffers.push(buffer);\n            downloaded += buffer.byteLength;\n            progress.value = downloaded;\n          }\n        }\n      }\n      const blob = new Blob(buffers, {type: 'application/binary'});\n      const a = document.createElement('a');\n      a.href = window.URL.createObjectURL(blob);\n      a.download = filename;\n      div.appendChild(a);\n      a.click();\n      div.remove();\n    }\n  ",
            "text/plain": [
              "<IPython.core.display.Javascript object>"
            ]
          },
          "metadata": {},
          "output_type": "display_data"
        },
        {
          "data": {
            "application/javascript": "download(\"download_61660a52-bc9f-4636-b7c0-a8ff4079a0a3\", \"Despesas_Agrupadas.csv\", 563)",
            "text/plain": [
              "<IPython.core.display.Javascript object>"
            ]
          },
          "metadata": {},
          "output_type": "display_data"
        },
        {
          "data": {
            "application/javascript": "\n    async function download(id, filename, size) {\n      if (!google.colab.kernel.accessAllowed) {\n        return;\n      }\n      const div = document.createElement('div');\n      const label = document.createElement('label');\n      label.textContent = `Downloading \"${filename}\": `;\n      div.appendChild(label);\n      const progress = document.createElement('progress');\n      progress.max = size;\n      div.appendChild(progress);\n      document.body.appendChild(div);\n\n      const buffers = [];\n      let downloaded = 0;\n\n      const channel = await google.colab.kernel.comms.open(id);\n      // Send a message to notify the kernel that we're ready.\n      channel.send({})\n\n      for await (const message of channel.messages) {\n        // Send a message to notify the kernel that we're ready.\n        channel.send({})\n        if (message.buffers) {\n          for (const buffer of message.buffers) {\n            buffers.push(buffer);\n            downloaded += buffer.byteLength;\n            progress.value = downloaded;\n          }\n        }\n      }\n      const blob = new Blob(buffers, {type: 'application/binary'});\n      const a = document.createElement('a');\n      a.href = window.URL.createObjectURL(blob);\n      a.download = filename;\n      div.appendChild(a);\n      a.click();\n      div.remove();\n    }\n  ",
            "text/plain": [
              "<IPython.core.display.Javascript object>"
            ]
          },
          "metadata": {},
          "output_type": "display_data"
        },
        {
          "data": {
            "application/javascript": "download(\"download_420aa997-d184-41c1-9ad1-ad9901985605\", \"Despesas_Agrupadas_2.csv\", 167)",
            "text/plain": [
              "<IPython.core.display.Javascript object>"
            ]
          },
          "metadata": {},
          "output_type": "display_data"
        }
      ],
      "source": [
        "#@title Após carregar arquivo aperte play para gerar os dados agrupados\n",
        "with open('despesas.xlsx', 'wb') as output_file: \n",
        "    for uploaded_filename in upload.value:\n",
        "        content = upload.value[0]['content']   \n",
        "        output_file.write(content) \n",
        "\n",
        "data = pd.read_excel(\"despesas.xlsx\")\n",
        "data[\"ID\"] = data.ID.str.split(\" - \", 1, expand=True)[0].astype(\"int64\")\n",
        "data[\"Efetivo\"] = data[\"Efetivo\"].astype(\"float64\")\n",
        "data[\"Orçado\"] = data[\"Orçado\"].astype(\"float64\") \n",
        "data_grouped = {\"Categoria\" :list(categorias.keys()),\n",
        "                \"Orçado\": [],\n",
        "                \"Efetivo\": []}\n",
        "for categoria in categorias:\n",
        "  cat_data = data[data[\"ID\"].isin(categorias[categoria])]\n",
        "  data_grouped[\"Orçado\"].append(cat_data[\"Orçado\"].sum())\n",
        "  data_grouped[\"Efetivo\"].append(cat_data[\"Efetivo\"].sum())\n",
        "data_grouped = pd.DataFrame(data_grouped)\n",
        "data_grouped['Orçado'] = data_grouped['Orçado'].apply(lambda x: float(\"{:.2f}\".format(x)))\n",
        "data_grouped['Efetivo'] = data_grouped['Efetivo'].apply(lambda x: float(\"{:.2f}\".format(x)))\n",
        "\n",
        "data_grouped[\"Var\"] = (data_grouped[\"Efetivo\"] - data_grouped[\"Orçado\"])/data_grouped[\"Orçado\"] *100\n",
        "data_grouped = data_grouped.append({\"Categoria\": \"Total\", \"Orçado\": data_grouped[\"Orçado\"].sum(), \"Efetivo\": data_grouped[\"Efetivo\"].sum(), \"Var\": data_grouped[\"Var\"].sum()}, ignore_index=True)\n",
        "\n",
        "data_grouped.to_csv(\"Despesas_Agrupadas.csv\", index=False)\n",
        "data_grouped.fillna(0,inplace=True)\n",
        "data_grouped\n",
        "#files.download(\"Despesas_Agrupadas.csv\")\n",
        "\n",
        "categorias_g = {\"Despesas com pessoal\": [\"Ordenados/Salários\", \"Horas Extras\", \"Encargos/Provisões\", \"Indenizações\", \"Benefícios\", \"Outras\"],\n",
        "           \"Despesas controláveis\": [\"Energia/Água/Gases Industriais\", \"Manutenção\", \"Materiais\", \"Fretes\", \"Viagens/Refeições\", \"Comunicação\", \"Serviços Terceiros\", \"Royalties\", \"Outras Despesas\"],\n",
        "           \"Despesas não controláveis\": [\"Amortizações/Depreciações\", \"Seguros\"]\n",
        "           }\n",
        "data_grouped_g = {\"Categoria\" :list(categorias_g.keys()),\n",
        "                \"Orçado\": [],\n",
        "                \"Efetivo\": []}\n",
        "for categoria in categorias_g:\n",
        "  cat_data = data_grouped[data_grouped[\"Categoria\"].isin(categorias_g[categoria])]\n",
        "  data_grouped_g[\"Orçado\"].append(cat_data[\"Orçado\"].sum())\n",
        "  data_grouped_g[\"Efetivo\"].append(cat_data[\"Efetivo\"].sum())\n",
        "\n",
        "data_grouped_g = pd.DataFrame(data_grouped_g)\n",
        "data_grouped_g = data_grouped_g.append({\"Categoria\": \"Total\", \"Orçado\": data_grouped_g[\"Orçado\"].sum(), \"Efetivo\": data_grouped_g[\"Efetivo\"].sum()}, ignore_index=True)\n",
        "data_grouped_g.to_csv(\"Despesas_Agrupadas_2.csv\", index=False)\n",
        "#files.download(\"Despesas_Agrupadas_2.csv\")"
      ]
    }
  ],
  "metadata": {
    "colab": {
      "include_colab_link": true,
      "provenance": []
    },
    "kernelspec": {
      "display_name": "Python 3",
      "name": "python3"
    },
    "language_info": {
      "name": "python"
    },
    "widgets": {
      "application/vnd.jupyter.widget-state+json": {
        "a4893eb1f8b94599a771f94cfd864f6d": {
          "model_module": "@jupyter-widgets/controls",
          "model_module_version": "1.5.0",
          "model_name": "ButtonStyleModel",
          "state": {
            "_model_module": "@jupyter-widgets/controls",
            "_model_module_version": "1.5.0",
            "_model_name": "ButtonStyleModel",
            "_view_count": null,
            "_view_module": "@jupyter-widgets/base",
            "_view_module_version": "1.2.0",
            "_view_name": "StyleView",
            "button_color": null,
            "font_weight": ""
          }
        },
        "b0ead3acb0914f968882d5db70d1f9f3": {
          "model_module": "@jupyter-widgets/controls",
          "model_module_version": "1.5.0",
          "model_name": "FileUploadModel",
          "state": {
            "_counter": 1,
            "_dom_classes": [],
            "_model_module": "@jupyter-widgets/controls",
            "_model_module_version": "1.5.0",
            "_model_name": "FileUploadModel",
            "_view_count": null,
            "_view_module": "@jupyter-widgets/controls",
            "_view_module_version": "1.5.0",
            "_view_name": "FileUploadView",
            "accept": ".*",
            "button_style": "",
            "data": [
              null
            ],
            "description": "Upload",
            "description_tooltip": null,
            "disabled": false,
            "error": "",
            "icon": "upload",
            "layout": "IPY_MODEL_eb825df2bc814e5b961275bc9b906387",
            "metadata": [
              {
                "lastModified": 1679523235523,
                "name": "Despesas.xlsx",
                "size": 8365,
                "type": "application/vnd.openxmlformats-officedocument.spreadsheetml.sheet"
              }
            ],
            "multiple": false,
            "style": "IPY_MODEL_a4893eb1f8b94599a771f94cfd864f6d"
          }
        },
        "eb825df2bc814e5b961275bc9b906387": {
          "model_module": "@jupyter-widgets/base",
          "model_module_version": "1.2.0",
          "model_name": "LayoutModel",
          "state": {
            "_model_module": "@jupyter-widgets/base",
            "_model_module_version": "1.2.0",
            "_model_name": "LayoutModel",
            "_view_count": null,
            "_view_module": "@jupyter-widgets/base",
            "_view_module_version": "1.2.0",
            "_view_name": "LayoutView",
            "align_content": null,
            "align_items": null,
            "align_self": null,
            "border": null,
            "bottom": null,
            "display": null,
            "flex": null,
            "flex_flow": null,
            "grid_area": null,
            "grid_auto_columns": null,
            "grid_auto_flow": null,
            "grid_auto_rows": null,
            "grid_column": null,
            "grid_gap": null,
            "grid_row": null,
            "grid_template_areas": null,
            "grid_template_columns": null,
            "grid_template_rows": null,
            "height": null,
            "justify_content": null,
            "justify_items": null,
            "left": null,
            "margin": null,
            "max_height": null,
            "max_width": null,
            "min_height": null,
            "min_width": null,
            "object_fit": null,
            "object_position": null,
            "order": null,
            "overflow": null,
            "overflow_x": null,
            "overflow_y": null,
            "padding": null,
            "right": null,
            "top": null,
            "visibility": null,
            "width": null
          }
        }
      }
    }
  },
  "nbformat": 4,
  "nbformat_minor": 0
}
